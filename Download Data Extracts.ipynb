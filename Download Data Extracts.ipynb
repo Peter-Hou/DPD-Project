{
 "cells": [
  {
   "cell_type": "code",
   "execution_count": 8,
   "metadata": {},
   "outputs": [
    {
     "name": "stdout",
     "output_type": "stream",
     "text": [
      "Downloading Started\n",
      "Downloading Completed\n",
      "Downloading Completed\n",
      "Downloading Completed\n",
      "Downloading Completed\n"
     ]
    }
   ],
   "source": [
    "import requests\n",
    "\n",
    "print('Downloading Started')\n",
    "\n",
    "file_urls = {\n",
    "    'allfiles.zip' : \"https://www.canada.ca/content/dam/hc-sc/documents/services/drug-product-database/allfiles.zip\",\n",
    "    'allfiles_ia.zip': \"https://www.canada.ca/content/dam/hc-sc/documents/services/drug-product-database/allfiles_ia.zip\",\n",
    "    'allfiles_ap.zip': \"https://www.canada.ca/content/dam/hc-sc/documents/services/drug-product-database/allfiles_ap.zip\",\n",
    "    'allfiles_dr.zip': \"https://www.canada.ca/content/dam/hc-sc/documents/services/drug-product-database/allfiles_dr.zip\"\n",
    "    \n",
    "}\n",
    "\n",
    "for file_name, url in file_urls.items():\n",
    "    req = requests.get(url)\n",
    "\n",
    "    # Send requests to the url to get file downloaded\n",
    "    filename = url.split('/')[-1]\n",
    "\n",
    "    # Write the file to the local file system\n",
    "    with open(filename, 'wb') as output_file:\n",
    "        output_file.write(req.content)\n",
    "    print(f'{filename} Downloading Completed')"
   ]
  }
 ],
 "metadata": {
  "kernelspec": {
   "display_name": "Python 3",
   "language": "python",
   "name": "python3"
  },
  "language_info": {
   "codemirror_mode": {
    "name": "ipython",
    "version": 3
   },
   "file_extension": ".py",
   "mimetype": "text/x-python",
   "name": "python",
   "nbconvert_exporter": "python",
   "pygments_lexer": "ipython3",
   "version": "3.8.3"
  }
 },
 "nbformat": 4,
 "nbformat_minor": 4
}
