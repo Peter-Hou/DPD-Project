{
 "cells": [
  {
   "cell_type": "markdown",
   "metadata": {},
   "source": [
    "# Check if the text files could be identified properly from zip file"
   ]
  },
  {
   "cell_type": "code",
   "execution_count": 1,
   "metadata": {},
   "outputs": [],
   "source": [
    "import zipfile"
   ]
  },
  {
   "cell_type": "code",
   "execution_count": 2,
   "metadata": {},
   "outputs": [
    {
     "name": "stdout",
     "output_type": "stream",
     "text": [
      "['biosimilar.txt', 'comp.txt', 'drug.txt', 'form.txt', 'ingred.txt', 'package.txt', 'pharm.txt', 'route.txt', 'schedule.txt', 'status.txt', 'ther.txt', 'vet.txt']\n"
     ]
    }
   ],
   "source": [
    "with zipfile.ZipFile('allfiles.zip', 'r') as allfiles_zip:\n",
    "    af_names = allfiles_zip.namelist()\n",
    "    print(af_names)"
   ]
  },
  {
   "cell_type": "code",
   "execution_count": 3,
   "metadata": {},
   "outputs": [
    {
     "name": "stdout",
     "output_type": "stream",
     "text": [
      "['biosimilar_ia.txt', 'comp_ia.txt', 'drug_ia.txt', 'form_ia.txt', 'inactive.txt', 'ingred_ia.txt', 'package_ia.txt', 'pharm_ia.txt', 'route_ia.txt', 'schedule_ia.txt', 'status_ia.txt', 'ther_ia.txt', 'vet_ia.txt']\n"
     ]
    }
   ],
   "source": [
    "with zipfile.ZipFile('allfiles_ia.zip', 'r') as allfiles_ia_zip:\n",
    "    af_ia_names = allfiles_ia_zip.namelist()\n",
    "    print(af_ia_names)"
   ]
  },
  {
   "cell_type": "code",
   "execution_count": 4,
   "metadata": {},
   "outputs": [
    {
     "name": "stdout",
     "output_type": "stream",
     "text": [
      "['biosimilar_ap.txt', 'comp_ap.txt', 'drug_ap.txt', 'form_ap.txt', 'ingred_ap.txt', 'package_ap.txt', 'pharm_ap.txt', 'route_ap.txt', 'schedule_ap.txt', 'status_ap.txt', 'ther_ap.txt', 'vet_ap.txt']\n"
     ]
    }
   ],
   "source": [
    "with zipfile.ZipFile('allfiles_ap.zip', 'r') as allfiles_ap_zip:\n",
    "    af_ap_names = allfiles_ap_zip.namelist()\n",
    "    print(af_ap_names)"
   ]
  },
  {
   "cell_type": "code",
   "execution_count": 5,
   "metadata": {},
   "outputs": [
    {
     "name": "stdout",
     "output_type": "stream",
     "text": [
      "['biosimilar_dr.txt', 'comp_dr.txt', 'drug_dr.txt', 'form_dr.txt', 'ingred_dr.txt', 'package_dr.txt', 'pharm_dr.txt', 'route_dr.txt', 'schedule_dr.txt', 'status_dr.txt', 'ther_dr.txt', 'vet_dr.txt']\n"
     ]
    }
   ],
   "source": [
    "with zipfile.ZipFile('allfiles_dr.zip', 'r') as allfiles_dr_zip:\n",
    "    af_dr_names = allfiles_dr_zip.namelist()\n",
    "    print(af_dr_names)"
   ]
  },
  {
   "cell_type": "code",
   "execution_count": 6,
   "metadata": {},
   "outputs": [],
   "source": [
    "all_file_names = af_names.copy()"
   ]
  },
  {
   "cell_type": "code",
   "execution_count": 7,
   "metadata": {},
   "outputs": [],
   "source": [
    "all_file_names.extend(af_ia_names)\n",
    "all_file_names.extend(af_ap_names)\n",
    "all_file_names.extend(af_dr_names)"
   ]
  },
  {
   "cell_type": "code",
   "execution_count": 8,
   "metadata": {},
   "outputs": [
    {
     "data": {
      "text/plain": [
       "['biosimilar.txt',\n",
       " 'comp.txt',\n",
       " 'drug.txt',\n",
       " 'form.txt',\n",
       " 'ingred.txt',\n",
       " 'package.txt',\n",
       " 'pharm.txt',\n",
       " 'route.txt',\n",
       " 'schedule.txt',\n",
       " 'status.txt',\n",
       " 'ther.txt',\n",
       " 'vet.txt',\n",
       " 'biosimilar_ia.txt',\n",
       " 'comp_ia.txt',\n",
       " 'drug_ia.txt',\n",
       " 'form_ia.txt',\n",
       " 'inactive.txt',\n",
       " 'ingred_ia.txt',\n",
       " 'package_ia.txt',\n",
       " 'pharm_ia.txt',\n",
       " 'route_ia.txt',\n",
       " 'schedule_ia.txt',\n",
       " 'status_ia.txt',\n",
       " 'ther_ia.txt',\n",
       " 'vet_ia.txt',\n",
       " 'biosimilar_ap.txt',\n",
       " 'comp_ap.txt',\n",
       " 'drug_ap.txt',\n",
       " 'form_ap.txt',\n",
       " 'ingred_ap.txt',\n",
       " 'package_ap.txt',\n",
       " 'pharm_ap.txt',\n",
       " 'route_ap.txt',\n",
       " 'schedule_ap.txt',\n",
       " 'status_ap.txt',\n",
       " 'ther_ap.txt',\n",
       " 'vet_ap.txt',\n",
       " 'biosimilar_dr.txt',\n",
       " 'comp_dr.txt',\n",
       " 'drug_dr.txt',\n",
       " 'form_dr.txt',\n",
       " 'ingred_dr.txt',\n",
       " 'package_dr.txt',\n",
       " 'pharm_dr.txt',\n",
       " 'route_dr.txt',\n",
       " 'schedule_dr.txt',\n",
       " 'status_dr.txt',\n",
       " 'ther_dr.txt',\n",
       " 'vet_dr.txt']"
      ]
     },
     "execution_count": 8,
     "metadata": {},
     "output_type": "execute_result"
    }
   ],
   "source": [
    "all_file_names"
   ]
  },
  {
   "cell_type": "markdown",
   "metadata": {},
   "source": [
    "# Web Scrap Column Names for These Extracted Files"
   ]
  },
  {
   "cell_type": "code",
   "execution_count": 9,
   "metadata": {},
   "outputs": [
    {
     "name": "stderr",
     "output_type": "stream",
     "text": [
      "D:\\anaconda\\lib\\site-packages\\requests\\__init__.py:89: RequestsDependencyWarning: urllib3 (1.26.15) or chardet (3.0.4) doesn't match a supported version!\n",
      "  warnings.warn(\"urllib3 ({}) or chardet ({}) doesn't match a supported \"\n"
     ]
    },
    {
     "name": "stdout",
     "output_type": "stream",
     "text": [
      "[<table class=\"table table-condensed table-striped table-hover table-bordered\">\n",
      "<caption class=\"text-left\">\n",
      "<strong>QRYM_ACTIVE_INGREDIENTS</strong>\n",
      "</caption>\n",
      "<thead>\n",
      "<tr>\n",
      "<th scope=\"col\">Name</th>\n",
      "<th scope=\"col\">Null?</th>\n",
      "<th scope=\"col\">Type</th>\n",
      "</tr>\n",
      "</thead>\n",
      "<tbody>\n",
      "<tr>\n",
      "<td>DRUG_CODE</td>\n",
      "<td>NOT NULL</td>\n",
      "<td>NUMBER(8)</td>\n",
      "</tr>\n",
      "<tr>\n",
      "<td>ACTIVE_INGREDIENT_CODE</td>\n",
      "<td></td>\n",
      "<td>NUMBER(6)</td>\n",
      "</tr>\n",
      "<tr>\n",
      "<td>INGREDIENT</td>\n",
      "<td></td>\n",
      "<td>VARCHAR2(240)</td>\n",
      "</tr>\n",
      "<tr>\n",
      "<td>INGREDIENT_SUPPLIED_IND</td>\n",
      "<td></td>\n",
      "<td>VARCHAR2(1)</td>\n",
      "</tr>\n",
      "<tr>\n",
      "<td>STRENGTH</td>\n",
      "<td></td>\n",
      "<td>VARCHAR2(20)</td>\n",
      "</tr>\n",
      "<tr>\n",
      "<td>STRENGTH_UNIT</td>\n",
      "<td></td>\n",
      "<td>VARCHAR2(40)</td>\n",
      "</tr>\n",
      "<tr>\n",
      "<td>STRENGTH_TYPE</td>\n",
      "<td></td>\n",
      "<td>VARCHAR2(40)</td>\n",
      "</tr>\n",
      "<tr>\n",
      "<td>DOSAGE_VALUE</td>\n",
      "<td></td>\n",
      "<td>VARCHAR2(20)</td>\n",
      "</tr>\n",
      "<tr>\n",
      "<td>BASE</td>\n",
      "<td></td>\n",
      "<td>VARCHAR2(1)</td>\n",
      "</tr>\n",
      "<tr>\n",
      "<td>DOSAGE_UNIT</td>\n",
      "<td></td>\n",
      "<td>VARCHAR2(40)</td>\n",
      "</tr>\n",
      "<tr>\n",
      "<td>NOTES</td>\n",
      "<td></td>\n",
      "<td>VARCHAR2(2000)</td>\n",
      "</tr>\n",
      "<tr>\n",
      "<td>INGREDIENT_F<sup><a class=\"fn-lnk\" href=\"#fn1\"><span class=\"wb-inv\">Footnote </span>*</a></sup></td>\n",
      "<td></td>\n",
      "<td>VARCHAR2(400)</td>\n",
      "</tr>\n",
      "<tr>\n",
      "<td>STRENGTH_UNIT_F<sup><a class=\"fn-lnk\" href=\"#fn1\"><span class=\"wb-inv\">Footnote </span>*</a></sup></td>\n",
      "<td></td>\n",
      "<td>VARCHAR2(80)</td>\n",
      "</tr>\n",
      "<tr>\n",
      "<td>STRENGTH_TYPE_F<sup><a class=\"fn-lnk\" href=\"#fn1\"><span class=\"wb-inv\">Footnote </span>*</a></sup></td>\n",
      "<td></td>\n",
      "<td>VARCHAR2(80)</td>\n",
      "</tr>\n",
      "<tr>\n",
      "<td>DOSAGE_UNIT_F<sup><a class=\"fn-lnk\" href=\"#fn1\"><span class=\"wb-inv\">Footnote </span>*</a></sup></td>\n",
      "<td></td>\n",
      "<td>VARCHAR2(80)</td>\n",
      "</tr>\n",
      "</tbody>\n",
      "</table>, <table class=\"table table-condensed table-striped table-hover table-bordered\">\n",
      "<caption class=\"text-left\">\n",
      "<strong>QRYM_COMPANIES</strong>\n",
      "</caption>\n",
      "<thead>\n",
      "<tr>\n",
      "<th scope=\"col\">Name</th>\n",
      "<th scope=\"col\">Null?</th>\n",
      "<th scope=\"col\">Type</th>\n",
      "</tr>\n",
      "</thead>\n",
      "<tbody>\n",
      "<tr>\n",
      "<td>DRUG_CODE</td>\n",
      "<td>NOT NULL</td>\n",
      "<td>NUMBER(8)</td>\n",
      "</tr>\n",
      "<tr>\n",
      "<td>MFR_CODE</td>\n",
      "<td></td>\n",
      "<td>VARCHAR2(5)</td>\n",
      "</tr>\n",
      "<tr>\n",
      "<td>COMPANY_CODE</td>\n",
      "<td></td>\n",
      "<td>NUMBER(6)</td>\n",
      "</tr>\n",
      "<tr>\n",
      "<td>COMPANY_NAME</td>\n",
      "<td></td>\n",
      "<td>VARCHAR2(80)</td>\n",
      "</tr>\n",
      "<tr>\n",
      "<td>COMPANY_TYPE</td>\n",
      "<td></td>\n",
      "<td>VARCHAR2(40)</td>\n",
      "</tr>\n",
      "<tr>\n",
      "<td>ADDRESS_MAILING_FLAG</td>\n",
      "<td></td>\n",
      "<td>VARCHAR2(1)</td>\n",
      "</tr>\n",
      "<tr>\n",
      "<td>ADDRESS_BILLING_FLAG</td>\n",
      "<td></td>\n",
      "<td>VARCHAR2(1)</td>\n",
      "</tr>\n",
      "<tr>\n",
      "<td>ADDRESS_NOTIFICATION_FLAG</td>\n",
      "<td></td>\n",
      "<td>VARCHAR2(1)</td>\n",
      "</tr>\n",
      "<tr>\n",
      "<td>ADDRESS_OTHER</td>\n",
      "<td></td>\n",
      "<td>VARCHAR2(1)</td>\n",
      "</tr>\n",
      "<tr>\n",
      "<td>SUITE_NUMBER</td>\n",
      "<td></td>\n",
      "<td>VARCHAR2(20)</td>\n",
      "</tr>\n",
      "<tr>\n",
      "<td>STREET_NAME</td>\n",
      "<td></td>\n",
      "<td>VARCHAR2(80)</td>\n",
      "</tr>\n",
      "<tr>\n",
      "<td>CITY_NAME</td>\n",
      "<td></td>\n",
      "<td>VARCHAR2(60)</td>\n",
      "</tr>\n",
      "<tr>\n",
      "<td>PROVINCE</td>\n",
      "<td></td>\n",
      "<td>VARCHAR2(40)</td>\n",
      "</tr>\n",
      "<tr>\n",
      "<td>COUNTRY</td>\n",
      "<td></td>\n",
      "<td>VARCHAR2(40)</td>\n",
      "</tr>\n",
      "<tr>\n",
      "<td>POSTAL_CODE</td>\n",
      "<td></td>\n",
      "<td>VARCHAR2(20)</td>\n",
      "</tr>\n",
      "<tr>\n",
      "<td>POST_OFFICE_BOX</td>\n",
      "<td></td>\n",
      "<td>VARCHAR2(15)</td>\n",
      "</tr>\n",
      "<tr>\n",
      "<td>PROVINCE_F<sup><a class=\"fn-lnk\" href=\"#fn1\"><span class=\"wb-inv\">Footnote </span>*</a></sup></td>\n",
      "<td></td>\n",
      "<td>VARCHAR2(100)</td>\n",
      "</tr>\n",
      "<tr>\n",
      "<td>COUNTRY_F<sup><a class=\"fn-lnk\" href=\"#fn1\"><span class=\"wb-inv\">Footnote </span>*</a></sup></td>\n",
      "<td></td>\n",
      "<td>VARCHAR2(100)</td>\n",
      "</tr>\n",
      "</tbody>\n",
      "</table>, <table class=\"table table-condensed table-striped table-hover table-bordered\">\n",
      "<caption class=\"text-left\">\n",
      "<strong>QRYM_DRUG_PRODUCT</strong>\n",
      "</caption>\n",
      "<thead>\n",
      "<tr>\n",
      "<th scope=\"col\">Name</th>\n",
      "<th scope=\"col\">Null?</th>\n",
      "<th scope=\"col\">Type</th>\n",
      "</tr>\n",
      "</thead>\n",
      "<tbody>\n",
      "<tr>\n",
      "<td>DRUG_CODE</td>\n",
      "<td>NOT NULL</td>\n",
      "<td>NUMBER(8)</td>\n",
      "</tr>\n",
      "<tr>\n",
      "<td>PRODUCT_CATEGORIZATION</td>\n",
      "<td></td>\n",
      "<td>VARCHAR2(80)</td>\n",
      "</tr>\n",
      "<tr>\n",
      "<td>CLASS</td>\n",
      "<td></td>\n",
      "<td>VARCHAR2(40)</td>\n",
      "</tr>\n",
      "<tr>\n",
      "<td>DRUG_IDENTIFICATION_NUMBER</td>\n",
      "<td></td>\n",
      "<td>VARCHAR2(29)</td>\n",
      "</tr>\n",
      "<tr>\n",
      "<td>BRAND_NAME</td>\n",
      "<td></td>\n",
      "<td>VARCHAR2(200)</td>\n",
      "</tr>\n",
      "<tr>\n",
      "<td>DESCRIPTOR</td>\n",
      "<td></td>\n",
      "<td>VARCHAR2(150)</td>\n",
      "</tr>\n",
      "<tr>\n",
      "<td>PEDIATRIC_FLAG</td>\n",
      "<td></td>\n",
      "<td>VARCHAR2(1)</td>\n",
      "</tr>\n",
      "<tr>\n",
      "<td>ACCESSION_NUMBER</td>\n",
      "<td></td>\n",
      "<td>VARCHAR2(5)</td>\n",
      "</tr>\n",
      "<tr>\n",
      "<td>NUMBER_OF_AIS</td>\n",
      "<td></td>\n",
      "<td>VARCHAR2(10)</td>\n",
      "</tr>\n",
      "<tr>\n",
      "<td>LAST_UPDATE_DATE</td>\n",
      "<td></td>\n",
      "<td>DATE</td>\n",
      "</tr>\n",
      "<tr>\n",
      "<td>AI_GROUP_NO</td>\n",
      "<td></td>\n",
      "<td>VARCHAR2(10)</td>\n",
      "</tr>\n",
      "<tr>\n",
      "<td>CLASS_F<sup><a class=\"fn-lnk\" href=\"#fn1\"><span class=\"wb-inv\">Footnote </span>*</a></sup></td>\n",
      "<td></td>\n",
      "<td>VARCHAR2(80)</td>\n",
      "</tr>\n",
      "<tr>\n",
      "<td>BRAND_NAME_F<sup><a class=\"fn-lnk\" href=\"#fn1\"><span class=\"wb-inv\">Footnote </span>*</a></sup></td>\n",
      "<td></td>\n",
      "<td>VARCHAR2(300)</td>\n",
      "</tr>\n",
      "<tr>\n",
      "<td>DESCRIPTOR_F<sup><a class=\"fn-lnk\" href=\"#fn1\"><span class=\"wb-inv\">Footnote </span>*</a></sup></td>\n",
      "<td></td>\n",
      "<td>VARCHAR2(200)</td>\n",
      "</tr>\n",
      "</tbody>\n",
      "</table>, <table class=\"table table-condensed table-striped table-hover table-bordered\">\n",
      "<caption class=\"text-left\">\n",
      "<strong>QRYM_STATUS</strong>\n",
      "</caption>\n",
      "<thead>\n",
      "<tr>\n",
      "<th scope=\"col\">Name</th>\n",
      "<th scope=\"col\">Null?</th>\n",
      "<th scope=\"col\">Type</th>\n",
      "</tr>\n",
      "</thead>\n",
      "<tbody>\n",
      "<tr>\n",
      "<td>DRUG_CODE</td>\n",
      "<td>NOT NULL</td>\n",
      "<td>NUMBER(8)</td>\n",
      "</tr>\n",
      "<tr>\n",
      "<td>CURRENT_STATUS_FLAG</td>\n",
      "<td></td>\n",
      "<td>VARCHAR2(1)</td>\n",
      "</tr>\n",
      "<tr>\n",
      "<td>STATUS</td>\n",
      "<td></td>\n",
      "<td>VARCHAR2(40)</td>\n",
      "</tr>\n",
      "<tr>\n",
      "<td>HISTORY_DATE</td>\n",
      "<td></td>\n",
      "<td>DATE</td>\n",
      "</tr>\n",
      "<tr>\n",
      "<td>STATUS_F<sup><a class=\"fn-lnk\" href=\"#fn1\"><span class=\"wb-inv\">Footnote </span>*</a></sup></td>\n",
      "<td></td>\n",
      "<td>VARCHAR2(80)</td>\n",
      "</tr>\n",
      "<tr>\n",
      "<td>LOT_NUMBER<sup><a class=\"fn-lnk\" href=\"#fn1\"><span class=\"wb-inv\">Footnote </span>*</a></sup></td>\n",
      "<td></td>\n",
      "<td>VARCHAR2(50)</td>\n",
      "</tr>\n",
      "<tr>\n",
      "<td>EXPIRATION_DATE<sup><a class=\"fn-lnk\" href=\"#fn1\"><span class=\"wb-inv\">Footnote </span>*</a></sup></td>\n",
      "<td></td>\n",
      "<td>DATE</td>\n",
      "</tr>\n",
      "</tbody>\n",
      "</table>, <table class=\"table table-condensed table-striped table-hover table-bordered\">\n",
      "<caption class=\"text-left\">\n",
      "<strong>QRYM_FORM</strong>\n",
      "</caption>\n",
      "<thead>\n",
      "<tr>\n",
      "<th scope=\"col\">Name</th>\n",
      "<th scope=\"col\">Null?</th>\n",
      "<th scope=\"col\">Type</th>\n",
      "</tr>\n",
      "</thead>\n",
      "<tbody>\n",
      "<tr>\n",
      "<td>DRUG_CODE</td>\n",
      "<td>NOT NULL</td>\n",
      "<td>NUMBER(8)</td>\n",
      "</tr>\n",
      "<tr>\n",
      "<td>PHARM_FORM_CODE</td>\n",
      "<td></td>\n",
      "<td>NUMBER(7)</td>\n",
      "</tr>\n",
      "<tr>\n",
      "<td>PHARMACEUTICAL_FORM</td>\n",
      "<td></td>\n",
      "<td>VARCHAR2(40)</td>\n",
      "</tr>\n",
      "<tr>\n",
      "<td>PHARMACEUTICAL_FORM_F<sup><a class=\"fn-lnk\" href=\"#fn1\"><span class=\"wb-inv\">Footnote </span>*</a></sup></td>\n",
      "<td></td>\n",
      "<td>VARCHAR2(80)</td>\n",
      "</tr>\n",
      "</tbody>\n",
      "</table>, <table class=\"table table-condensed table-striped table-hover table-bordered\">\n",
      "<caption class=\"text-left\">\n",
      "<strong>QRYM_PACKAGING</strong>\n",
      "</caption>\n",
      "<thead>\n",
      "<tr>\n",
      "<th scope=\"col\">Name</th>\n",
      "<th scope=\"col\">Null?</th>\n",
      "<th scope=\"col\">Type</th>\n",
      "</tr>\n",
      "</thead>\n",
      "<tbody>\n",
      "<tr>\n",
      "<td>DRUG_CODE</td>\n",
      "<td>NOT NULL</td>\n",
      "<td>NUMBER(8)</td>\n",
      "</tr>\n",
      "<tr>\n",
      "<td>UPC</td>\n",
      "<td></td>\n",
      "<td>VARCHAR2(12)</td>\n",
      "</tr>\n",
      "<tr>\n",
      "<td>PACKAGE_SIZE_UNIT</td>\n",
      "<td></td>\n",
      "<td>VARCHAR2(40)</td>\n",
      "</tr>\n",
      "<tr>\n",
      "<td>PACKAGE_TYPE</td>\n",
      "<td></td>\n",
      "<td>VARCHAR2(40)</td>\n",
      "</tr>\n",
      "<tr>\n",
      "<td>PACKAGE_SIZE</td>\n",
      "<td></td>\n",
      "<td>VARCHAR2(5)</td>\n",
      "</tr>\n",
      "<tr>\n",
      "<td>PRODUCT_INFORMATION</td>\n",
      "<td></td>\n",
      "<td>VARCHAR2(80)</td>\n",
      "</tr>\n",
      "<tr>\n",
      "<td>PACKAGE_SIZE_UNIT_F<sup><a class=\"fn-lnk\" href=\"#fn1\"><span class=\"wb-inv\">Footnote </span>*</a></sup></td>\n",
      "<td></td>\n",
      "<td>VARCHAR2(80)</td>\n",
      "</tr>\n",
      "<tr>\n",
      "<td>PACKAGE_TYPE_F<sup><a class=\"fn-lnk\" href=\"#fn1\"><span class=\"wb-inv\">Footnote </span>*</a></sup></td>\n",
      "<td></td>\n",
      "<td>VARCHAR2(80)</td>\n",
      "</tr>\n",
      "</tbody>\n",
      "</table>, <table class=\"table table-condensed table-striped table-hover table-bordered\">\n",
      "<caption class=\"text-left\">\n",
      "<strong>QRYM_PHARMACEUTICAL_STD</strong>\n",
      "</caption>\n",
      "<thead>\n",
      "<tr>\n",
      "<th scope=\"col\">Name</th>\n",
      "<th scope=\"col\">Null?</th>\n",
      "<th scope=\"col\">Type</th>\n",
      "</tr>\n",
      "</thead>\n",
      "<tbody>\n",
      "<tr>\n",
      "<td>DRUG_CODE</td>\n",
      "<td>NOT NULL</td>\n",
      "<td>NUMBER(8)</td>\n",
      "</tr>\n",
      "<tr>\n",
      "<td>PHARMACEUTICAL_STD</td>\n",
      "<td></td>\n",
      "<td>VARCHAR2(40)</td>\n",
      "</tr>\n",
      "</tbody>\n",
      "</table>, <table class=\"table table-condensed table-striped table-hover table-bordered\">\n",
      "<caption class=\"text-left\">\n",
      "<strong>QRYM_ROUTE</strong>\n",
      "</caption>\n",
      "<thead>\n",
      "<tr>\n",
      "<th scope=\"col\">Name</th>\n",
      "<th scope=\"col\">Null?</th>\n",
      "<th scope=\"col\">Type</th>\n",
      "</tr>\n",
      "</thead>\n",
      "<tbody>\n",
      "<tr>\n",
      "<td>DRUG_CODE</td>\n",
      "<td>NOT NULL</td>\n",
      "<td>NUMBER(8)</td>\n",
      "</tr>\n",
      "<tr>\n",
      "<td>ROUTE_OF_ADMINISTRATION_CODE</td>\n",
      "<td></td>\n",
      "<td>NUMBER(6)</td>\n",
      "</tr>\n",
      "<tr>\n",
      "<td>ROUTE_OF_ADMINISTRATION</td>\n",
      "<td></td>\n",
      "<td>VARCHAR2(40)</td>\n",
      "</tr>\n",
      "<tr>\n",
      "<td>ROUTE_OF_ADMINISTRATION_F<sup><a class=\"fn-lnk\" href=\"#fn1\"><span class=\"wb-inv\">Footnote </span>*</a></sup></td>\n",
      "<td></td>\n",
      "<td>VARCHAR2(80)</td>\n",
      "</tr>\n",
      "</tbody></table>, <table class=\"table table-condensed table-striped table-hover table-bordered\">\n",
      "<caption class=\"text-left\">\n",
      "<strong>QRYM_SCHEDULE</strong>\n",
      "</caption>\n",
      "<thead>\n",
      "<tr>\n",
      "<th scope=\"col\">Name</th>\n",
      "<th scope=\"col\">Null?</th>\n",
      "<th scope=\"col\">Type</th>\n",
      "</tr>\n",
      "</thead>\n",
      "<tbody>\n",
      "<tr>\n",
      "<td>DRUG_CODE</td>\n",
      "<td>NOT NULL</td>\n",
      "<td>NUMBER(8)</td>\n",
      "</tr>\n",
      "<tr>\n",
      "<td>SCHEDULE</td>\n",
      "<td></td>\n",
      "<td>VARCHAR2(40)</td>\n",
      "</tr>\n",
      "<tr>\n",
      "<td>SCHEDULE_F<sup><a class=\"fn-lnk\" href=\"#fn1\"><span class=\"wb-inv\">Footnote </span>*</a></sup></td>\n",
      "<td></td>\n",
      "<td>VARCHAR2(160)</td>\n",
      "</tr>\n",
      "</tbody>\n",
      "</table>, <table class=\"table table-condensed table-striped table-hover table-bordered\">\n",
      "<caption class=\"text-left\">\n",
      "<strong>QRYM_THERAPEUTIC_CLASS</strong>\n",
      "</caption>\n",
      "<thead>\n",
      "<tr>\n",
      "<th scope=\"col\">Name</th>\n",
      "<th scope=\"col\">Null?</th>\n",
      "<th scope=\"col\">Type</th>\n",
      "</tr>\n",
      "</thead>\n",
      "<tbody>\n",
      "<tr>\n",
      "<td>DRUG_CODE</td>\n",
      "<td>NOT NULL</td>\n",
      "<td>NUMBER(8)</td>\n",
      "</tr>\n",
      "<tr>\n",
      "<td>TC_ATC_NUMBER</td>\n",
      "<td></td>\n",
      "<td>VARCHAR2(8)</td>\n",
      "</tr>\n",
      "<tr>\n",
      "<td>TC_ATC</td>\n",
      "<td></td>\n",
      "<td>VARCHAR2(120)</td>\n",
      "</tr>\n",
      "<tr>\n",
      "<td>TC_AHFS_NUMBER</td>\n",
      "<td></td>\n",
      "<td>VARCHAR2(20)</td>\n",
      "</tr>\n",
      "<tr>\n",
      "<td>TC_AHFS</td>\n",
      "<td></td>\n",
      "<td>VARCHAR2(80)</td>\n",
      "</tr>\n",
      "<tr>\n",
      "<td>TC_ATC_F<sup><a class=\"fn-lnk\" href=\"#fn1\"><span class=\"wb-inv\">Footnote </span>*</a></sup></td>\n",
      "<td></td>\n",
      "<td>VARCHAR2(240)</td>\n",
      "</tr>\n",
      "<tr>\n",
      "<td>TC_AHFS_F<sup><a class=\"fn-lnk\" href=\"#fn1\"><span class=\"wb-inv\">Footnote </span>*</a></sup></td>\n",
      "<td></td>\n",
      "<td>VARCHAR2(160)</td>\n",
      "</tr>\n",
      "</tbody>\n",
      "</table>, <table class=\"table table-condensed table-striped table-hover table-bordered\">\n",
      "<caption class=\"text-left\">\n",
      "<strong>QRYM_VETERINARY_SPECIES</strong>\n",
      "</caption>\n",
      "<thead>\n",
      "<tr>\n",
      "<th scope=\"col\">Name</th>\n",
      "<th scope=\"col\">Null?</th>\n",
      "<th scope=\"col\">Type</th>\n",
      "</tr>\n",
      "</thead>\n",
      "<tbody>\n",
      "<tr>\n",
      "<td>DRUG_CODE</td>\n",
      "<td>NOT NULL</td>\n",
      "<td>NUMBER(8)</td>\n",
      "</tr>\n",
      "<tr>\n",
      "<td>VET_SPECIES</td>\n",
      "<td></td>\n",
      "<td>VARCHAR2(80)</td>\n",
      "</tr>\n",
      "<tr>\n",
      "<td>VET_SUB_SPECIES</td>\n",
      "<td></td>\n",
      "<td>VARCHAR2(80)</td>\n",
      "</tr>\n",
      "<tr>\n",
      "<td>VET_SPECIES_F<sup><a class=\"fn-lnk\" href=\"#fn1\"><span class=\"wb-inv\">Footnote </span>*</a></sup></td>\n",
      "<td></td>\n",
      "<td>VARCHAR2(160)</td>\n",
      "</tr>\n",
      "</tbody>\n",
      "</table>]\n"
     ]
    }
   ],
   "source": [
    "import requests\n",
    "from bs4 import BeautifulSoup\n",
    "\n",
    "# Get URL for the page containing column names\n",
    "url = \"https://www.canada.ca/en/health-canada/services/drugs-health-products/drug-products/drug-product-database/read-file-drug-product-database-data-extract.html\"\n",
    "\n",
    "# Make a request to the webpage and get the HTML content\n",
    "html_content = requests.get(url).text\n",
    "\n",
    "# Parse the HTML content\n",
    "soup = BeautifulSoup(html_content, 'html.parser')\n",
    "\n",
    "# Find all the tables in the webpage\n",
    "tables = soup.find_all('table')\n",
    "\n",
    "print(tables)"
   ]
  },
  {
   "cell_type": "code",
   "execution_count": 10,
   "metadata": {},
   "outputs": [
    {
     "name": "stdout",
     "output_type": "stream",
     "text": [
      "{'QRYM_ACTIVE_INGREDIENTS': ['DRUG_CODE', 'ACTIVE_INGREDIENT_CODE', 'INGREDIENT', 'INGREDIENT_SUPPLIED_IND', 'STRENGTH', 'STRENGTH_UNIT', 'STRENGTH_TYPE', 'DOSAGE_VALUE', 'BASE', 'DOSAGE_UNIT', 'NOTES', 'INGREDIENT_FFootnote ', 'STRENGTH_UNIT_FFootnote ', 'STRENGTH_TYPE_FFootnote ', 'DOSAGE_UNIT_FFootnote '], 'QRYM_COMPANIES': ['DRUG_CODE', 'MFR_CODE', 'COMPANY_CODE', 'COMPANY_NAME', 'COMPANY_TYPE', 'ADDRESS_MAILING_FLAG', 'ADDRESS_BILLING_FLAG', 'ADDRESS_NOTIFICATION_FLAG', 'ADDRESS_OTHER', 'SUITE_NUMBER', 'STREET_NAME', 'CITY_NAME', 'PROVINCE', 'COUNTRY', 'POSTAL_CODE', 'POST_OFFICE_BOX', 'PROVINCE_FFootnote ', 'COUNTRY_FFootnote '], 'QRYM_DRUG_PRODUCT': ['DRUG_CODE', 'PRODUCT_CATEGORIZATION', 'CLASS', 'DRUG_IDENTIFICATION_NUMBER', 'BRAND_NAME', 'DESCRIPTOR', 'PEDIATRIC_FLAG', 'ACCESSION_NUMBER', 'NUMBER_OF_AIS', 'LAST_UPDATE_DATE', 'AI_GROUP_NO', 'CLASS_FFootnote ', 'BRAND_NAME_FFootnote ', 'DESCRIPTOR_FFootnote '], 'QRYM_STATUS': ['DRUG_CODE', 'CURRENT_STATUS_FLAG', 'STATUS', 'HISTORY_DATE', 'STATUS_FFootnote ', 'LOT_NUMBERFootnote ', 'EXPIRATION_DATEFootnote '], 'QRYM_FORM': ['DRUG_CODE', 'PHARM_FORM_CODE', 'PHARMACEUTICAL_FORM', 'PHARMACEUTICAL_FORM_FFootnote '], 'QRYM_PACKAGING': ['DRUG_CODE', 'UPC', 'PACKAGE_SIZE_UNIT', 'PACKAGE_TYPE', 'PACKAGE_SIZE', 'PRODUCT_INFORMATION', 'PACKAGE_SIZE_UNIT_FFootnote ', 'PACKAGE_TYPE_FFootnote '], 'QRYM_PHARMACEUTICAL_STD': ['DRUG_CODE', 'PHARMACEUTICAL_STD'], 'QRYM_ROUTE': ['DRUG_CODE', 'ROUTE_OF_ADMINISTRATION_CODE', 'ROUTE_OF_ADMINISTRATION', 'ROUTE_OF_ADMINISTRATION_FFootnote '], 'QRYM_SCHEDULE': ['DRUG_CODE', 'SCHEDULE', 'SCHEDULE_FFootnote '], 'QRYM_THERAPEUTIC_CLASS': ['DRUG_CODE', 'TC_ATC_NUMBER', 'TC_ATC', 'TC_AHFS_NUMBER', 'TC_AHFS', 'TC_ATC_FFootnote ', 'TC_AHFS_FFootnote '], 'QRYM_VETERINARY_SPECIES': ['DRUG_CODE', 'VET_SPECIES', 'VET_SUB_SPECIES', 'VET_SPECIES_FFootnote ']}\n"
     ]
    }
   ],
   "source": [
    "# Initialize an empty dictionary to store the column names\n",
    "column_names_dict = {}\n",
    "column_names = []\n",
    "\n",
    "# Loop through each table in the webpage\n",
    "for table in tables:\n",
    "\n",
    "    # Find the title of the table (i.e., the file name)\n",
    "    table_title = table.find('strong').text.strip()\n",
    "    \n",
    "    # Find all the rows in the table\n",
    "    rows = table.find_all('tr')\n",
    "    \n",
    "    # Extract the column names from the first row of the table\n",
    "    for row in rows:\n",
    "        td = row.find('td')\n",
    "        column_names.append(td.text.strip(\"*\")) if td else None\n",
    "    \n",
    "    # Store the column names in the dictionary\n",
    "    column_names_dict[table_title] = column_names\n",
    "    column_names = []\n",
    "\n",
    "# Print the dictionary of column names\n",
    "print(column_names_dict)"
   ]
  },
  {
   "cell_type": "markdown",
   "metadata": {},
   "source": [
    "## Biosimilar Text Files do not Have Column Names Information, I'll Add My Own\n",
    "\n",
    "Based on the data inspection, the columns are going to be ['DRUG_CODE', 'eng_Type', 'fr_Type', 'class_code']"
   ]
  },
  {
   "cell_type": "code",
   "execution_count": 11,
   "metadata": {},
   "outputs": [],
   "source": [
    "column_names_dict['QRYM_BIOSIMILAR'] = ['DRUG_CODE', 'TYPE', 'TYPE_F', 'CLASS_CODE']"
   ]
  },
  {
   "cell_type": "markdown",
   "metadata": {},
   "source": [
    "# Convert all the data in the zip files to data frames in python with their column names"
   ]
  },
  {
   "cell_type": "code",
   "execution_count": 45,
   "metadata": {},
   "outputs": [],
   "source": [
    "from difflib import SequenceMatcher\n",
    "\n",
    "def remove_filename_suffix(filename):\n",
    "    if '_' in filename:\n",
    "        filename = filename[:filename.find('_')]\n",
    "    else:\n",
    "        filename = filename[:filename.find('.')]\n",
    "    return filename\n",
    "\n",
    "def remove_formal_filename_prefix(formal_filename):\n",
    "    start_ind = formal_filename.find(\"_\")\n",
    "    return formal_filename[start_ind + 1:].lower()\n",
    "\n",
    "def create_name_mapping(file_names, formal_file_names):\n",
    "    name_mapping = {}\n",
    "    for filename in file_names:\n",
    "        original_filename = filename\n",
    "        filename = remove_filename_suffix(filename)\n",
    "        not_match = True\n",
    "        while not_match:\n",
    "            for formal_filename in formal_file_names:\n",
    "                #print(formal_filename)\n",
    "                #print(filename)\n",
    "                original_formal_filename = formal_filename \n",
    "                formal_filename = remove_formal_filename_prefix(formal_filename)\n",
    "                ind = formal_filename.find(\"_\") if \"_\" in formal_filename else len(formal_filename)\n",
    "                if filename == formal_filename[:len(filename)] or \\\n",
    "                    filename == formal_filename[ind + 1: ind + len(filename) + 1]:\n",
    "                    #print(original_filename)\n",
    "                    #print(original_formal_filename)\n",
    "                    name_mapping[original_filename] = original_formal_filename\n",
    "                    not_match = False\n",
    "                    break\n",
    "            if not not_match:\n",
    "                break\n",
    "            if len(filename) - 1 != 0:\n",
    "                filename = filename[:len(filename) - 1]\n",
    "            else:\n",
    "                raise ValueError(f'Did not find a match column name for {original_filename} when concatenating the column names to data extracts')\n",
    "    return name_mapping"
   ]
  },
  {
   "cell_type": "code",
   "execution_count": 46,
   "metadata": {},
   "outputs": [
    {
     "name": "stdout",
     "output_type": "stream",
     "text": [
      "48\n",
      "{'package.txt': 'QRYM_PACKAGING', 'biosimilar.txt': 'QRYM_BIOSIMILAR', 'comp.txt': 'QRYM_COMPANIES', 'drug.txt': 'QRYM_DRUG_PRODUCT', 'form.txt': 'QRYM_FORM', 'ingred.txt': 'QRYM_ACTIVE_INGREDIENTS', 'pharm.txt': 'QRYM_PHARMACEUTICAL_STD', 'route.txt': 'QRYM_ROUTE', 'schedule.txt': 'QRYM_SCHEDULE', 'status.txt': 'QRYM_STATUS', 'ther.txt': 'QRYM_THERAPEUTIC_CLASS', 'vet.txt': 'QRYM_VETERINARY_SPECIES', 'biosimilar_ia.txt': 'QRYM_BIOSIMILAR', 'comp_ia.txt': 'QRYM_COMPANIES', 'drug_ia.txt': 'QRYM_DRUG_PRODUCT', 'form_ia.txt': 'QRYM_FORM', 'ingred_ia.txt': 'QRYM_ACTIVE_INGREDIENTS', 'package_ia.txt': 'QRYM_PACKAGING', 'pharm_ia.txt': 'QRYM_PHARMACEUTICAL_STD', 'route_ia.txt': 'QRYM_ROUTE', 'schedule_ia.txt': 'QRYM_SCHEDULE', 'status_ia.txt': 'QRYM_STATUS', 'ther_ia.txt': 'QRYM_THERAPEUTIC_CLASS', 'vet_ia.txt': 'QRYM_VETERINARY_SPECIES', 'biosimilar_ap.txt': 'QRYM_BIOSIMILAR', 'comp_ap.txt': 'QRYM_COMPANIES', 'drug_ap.txt': 'QRYM_DRUG_PRODUCT', 'form_ap.txt': 'QRYM_FORM', 'ingred_ap.txt': 'QRYM_ACTIVE_INGREDIENTS', 'package_ap.txt': 'QRYM_PACKAGING', 'pharm_ap.txt': 'QRYM_PHARMACEUTICAL_STD', 'route_ap.txt': 'QRYM_ROUTE', 'schedule_ap.txt': 'QRYM_SCHEDULE', 'status_ap.txt': 'QRYM_STATUS', 'ther_ap.txt': 'QRYM_THERAPEUTIC_CLASS', 'vet_ap.txt': 'QRYM_VETERINARY_SPECIES', 'biosimilar_dr.txt': 'QRYM_BIOSIMILAR', 'comp_dr.txt': 'QRYM_COMPANIES', 'drug_dr.txt': 'QRYM_DRUG_PRODUCT', 'form_dr.txt': 'QRYM_FORM', 'ingred_dr.txt': 'QRYM_ACTIVE_INGREDIENTS', 'package_dr.txt': 'QRYM_PACKAGING', 'pharm_dr.txt': 'QRYM_PHARMACEUTICAL_STD', 'route_dr.txt': 'QRYM_ROUTE', 'schedule_dr.txt': 'QRYM_SCHEDULE', 'status_dr.txt': 'QRYM_STATUS', 'ther_dr.txt': 'QRYM_THERAPEUTIC_CLASS', 'vet_dr.txt': 'QRYM_VETERINARY_SPECIES'}\n"
     ]
    }
   ],
   "source": [
    "# inactive.txt is breaking the consistent order between all the zip files\n",
    "# it's information has been included in the other files of allfiles_ia.zip (assumption)\n",
    "#af_ia_names.remove('inactive.txt')\n",
    "name_mapping = create_name_mapping(af_names, column_names_dict.keys())\n",
    "name_mapping1 = create_name_mapping(af_ia_names, column_names_dict.keys())\n",
    "name_mapping2 = create_name_mapping(af_ap_names, column_names_dict.keys())\n",
    "name_mapping3 = create_name_mapping(af_dr_names, column_names_dict.keys())\n",
    "\n",
    "name_mapping.update(name_mapping1) \n",
    "name_mapping.update(name_mapping2)\n",
    "name_mapping.update(name_mapping3)\n",
    "\n",
    "print(len(name_mapping)) ## it is supposed to be 12 * 4 = 48\n",
    "print(name_mapping)"
   ]
  },
  {
   "cell_type": "code",
   "execution_count": 47,
   "metadata": {},
   "outputs": [],
   "source": [
    "import pandas as pd\n",
    "\n",
    "zip_file_names = ['allfiles.zip', 'allfiles_ia.zip', 'allfiles_ap.zip', 'allfiles_dr.zip']\n",
    "\n",
    "for zip_file in zip_file_names:\n",
    "\n",
    "    with zipfile.ZipFile(zip_file, 'r') as files:\n",
    "        file_names = files.namelist()\n",
    "\n",
    "    for file_name in file_names:\n",
    "        with zipfile.ZipFile(zip_file, 'r') as files:\n",
    "            with files.open(file_name) as file:\n",
    "                # Find the matched column names\n",
    "                if file_name == 'inactive.txt':\n",
    "                    continue\n",
    "                formal_file_name = name_mapping[file_name]\n",
    "                column_names = column_names_dict[formal_file_name]\n",
    "                \n",
    "                df = pd.read_csv(file, sep = ',', header = None, names = column_names)\n",
    "                globals()[file_name.split('.')[0]] = df\n",
    "                "
   ]
  },
  {
   "cell_type": "code",
   "execution_count": 16,
   "metadata": {},
   "outputs": [
    {
     "data": {
      "text/plain": [
       "['biosimilar.txt',\n",
       " 'comp.txt',\n",
       " 'drug.txt',\n",
       " 'form.txt',\n",
       " 'ingred.txt',\n",
       " 'package.txt',\n",
       " 'pharm.txt',\n",
       " 'route.txt',\n",
       " 'schedule.txt',\n",
       " 'status.txt',\n",
       " 'ther.txt',\n",
       " 'vet.txt']"
      ]
     },
     "execution_count": 16,
     "metadata": {},
     "output_type": "execute_result"
    }
   ],
   "source": [
    "af_names"
   ]
  },
  {
   "cell_type": "markdown",
   "metadata": {},
   "source": [
    "# Data Inspection"
   ]
  },
  {
   "cell_type": "markdown",
   "metadata": {},
   "source": [
    "## Plot Number of Rows in each DataFrame"
   ]
  },
  {
   "cell_type": "code",
   "execution_count": null,
   "metadata": {},
   "outputs": [],
   "source": [
    "# remove the .txt file format from all the af_names \n",
    "af_remove_format = [file_name.replace('.txt', '') for file_name in af_names]\n",
    "\n",
    "# Get all data frames that were created from the text files\n",
    "af_dfs = {name: globals()[name] for name in af_remove_format}\n",
    "\n",
    "# Get number of rows for each data frame\n",
    "af_num_rows = {name: len(df) for name, df in af_dfs.items()}\n",
    "\n",
    "\n",
    "# remove the .txt file format from all the af_ia_names \n",
    "af_ia_remove_format = [file_name.replace('.txt', '') for file_name in af_ia_names if file_name != 'inactive.txt']\n",
    "\n",
    "# Get all data frames that were created from the text files\n",
    "af_ia_dfs = {name: globals()[name] for name in af_ia_remove_format}\n",
    "\n",
    "# Get number of rows for each data frame\n",
    "af_ia_num_rows = {name: len(df) for name, df in af_ia_dfs.items()}\n",
    "\n",
    "\n",
    "# remove the .txt file format from all the af_dr_names \n",
    "af_dr_remove_format = [file_name.replace('.txt', '') for file_name in af_dr_names]\n",
    "\n",
    "# Get all data frames that were created from the text files\n",
    "af_dr_dfs = {name: globals()[name] for name in af_dr_remove_format}\n",
    "\n",
    "# Get number of rows for each data frame\n",
    "af_dr_num_rows = {name: len(df) for name, df in af_dr_dfs.items()}\n",
    "\n",
    "\n",
    "# remove the .txt file format from all the af_ap_names \n",
    "af_ap_remove_format = [file_name.replace('.txt', '') for file_name in af_ap_names if file_name != 'inactive.txt']\n",
    "\n",
    "# Get all data frames that were created from the text files\n",
    "af_ap_dfs = {name: globals()[name] for name in af_ap_remove_format}\n",
    "\n",
    "# Get number of rows for each data frame\n",
    "af_ap_num_rows = {name: len(df) for name, df in af_ap_dfs.items()}"
   ]
  },
  {
   "cell_type": "code",
   "execution_count": null,
   "metadata": {},
   "outputs": [],
   "source": [
    "import matplotlib.pyplot as plt\n",
    "plt.figure(figsize = (10, 6))\n",
    "plt.bar(af_num_rows.keys(), af_num_rows.values())\n",
    "for x, y in af_num_rows.items():\n",
    "    plt.text(x, y + 5, str(y), ha='center', va='bottom')\n",
    "plt.xlabel('Data Frames')\n",
    "plt.ylabel('Number of Rows')\n",
    "plt.show()"
   ]
  },
  {
   "cell_type": "code",
   "execution_count": null,
   "metadata": {},
   "outputs": [],
   "source": [
    "import matplotlib.pyplot as plt\n",
    "plt.figure(figsize = (15, 6))\n",
    "\n",
    "plt.bar(af_ia_num_rows.keys(), af_ia_num_rows.values())\n",
    "for x, y in af_ia_num_rows.items():\n",
    "    plt.text(x, y + 5, str(y), ha='center', va='bottom')\n",
    "\n",
    "plt.xlabel('Data Frames')\n",
    "plt.ylabel('Number of Rows')\n",
    "plt.show()"
   ]
  },
  {
   "cell_type": "code",
   "execution_count": null,
   "metadata": {},
   "outputs": [],
   "source": [
    "import matplotlib.pyplot as plt\n",
    "plt.figure(figsize = (15, 6))\n",
    "\n",
    "plt.bar(af_dr_num_rows.keys(), af_dr_num_rows.values())\n",
    "for x, y in af_dr_num_rows.items():\n",
    "    plt.text(x, y + 5, str(y), ha='center', va='bottom')\n",
    "    \n",
    "\n",
    "plt.xlabel('Data Frames')\n",
    "plt.ylabel('Number of Rows')\n",
    "plt.show()"
   ]
  },
  {
   "cell_type": "code",
   "execution_count": null,
   "metadata": {},
   "outputs": [],
   "source": [
    "import matplotlib.pyplot as plt\n",
    "plt.figure(figsize = (15, 6))\n",
    "\n",
    "plt.bar(af_ap_num_rows.keys(), af_ap_num_rows.values())\n",
    "for x, y in af_ap_num_rows.items():\n",
    "    plt.text(x, y + 5, str(y), ha='center', va='bottom')\n",
    "\n",
    "\n",
    "plt.xlabel('Data Frames')\n",
    "plt.ylabel('Number of Rows')\n",
    "plt.show()"
   ]
  },
  {
   "cell_type": "code",
   "execution_count": null,
   "metadata": {},
   "outputs": [],
   "source": [
    "DPD_df_names = list(af_dfs.keys())\n",
    "DPD_df_names.extend(list(af_ia_dfs.keys()))\n",
    "DPD_df_names.extend(list(af_ap_dfs.keys()))\n",
    "DPD_df_names.extend(list(af_dr_dfs.keys()))\n",
    "DPD_df_names"
   ]
  },
  {
   "cell_type": "code",
   "execution_count": null,
   "metadata": {},
   "outputs": [],
   "source": [
    "for df in DPD_df_names:\n",
    "    df_var = globals()[df]\n",
    "    if len(df_var['DRUG_CODE'].unique()) == df_var.shape[0]:\n",
    "        print(f\"{df} has no duplicated DRUG_CODE rows\")"
   ]
  },
  {
   "cell_type": "markdown",
   "metadata": {},
   "source": [
    "## comp and drug both has no duplicated DRUG_CODE rows"
   ]
  },
  {
   "cell_type": "code",
   "execution_count": null,
   "metadata": {},
   "outputs": [],
   "source": [
    "print((~comp['DRUG_CODE'].isin(drug['DRUG_CODE'])).sum()) \n",
    "# a value of 0 means that all of the DRUG CODE in comp are in drug \n",
    "\n",
    "print(comp.shape[0] == drug.shape[0])\n",
    "#  and if drug and comp have the same number of rows, then a drug is uniquely produced by one company\n",
    "#    and one company only produce one drug\n",
    "\n",
    "print((~comp_ia['DRUG_CODE'].isin(drug_ia['DRUG_CODE'])).sum()) \n",
    "# a value of 0 means that all of the DRUG CODE in comp_ia are in drug_ia \n",
    "\n",
    "print(comp_ia.shape[0] == drug_ia.shape[0])\n",
    "#  and if drug_ia and comp_ia have the same number of rows, then a drug_ia is uniquely produced by one comp_iaany\n",
    "#    and one comp_iaany only produce one drug_ia\n",
    "\n",
    "print((~comp_dr['DRUG_CODE'].isin(drug_dr['DRUG_CODE'])).sum()) \n",
    "# a value of 0 means that all of the DRUG CODE in comp_dr are in drug_dr \n",
    "\n",
    "print(comp_dr.shape[0] == drug_dr.shape[0])\n",
    "#  and if drug_dr and comp_dr have the same number of rows, then a drug_dr is uniquely produced by one comp_drany\n",
    "#    and one comp_drany only produce one drug_dr\n",
    "\n",
    "print((~comp_ap['DRUG_CODE'].isin(drug_ap['DRUG_CODE'])).sum()) \n",
    "# a value of 0 means that all of the DRUG CODE in comp_ap are in drug_ap \n",
    "\n",
    "print(comp_ap.shape[0] == drug_ap.shape[0])\n",
    "#  and if drug_ap and comp_ap have the same number of rows, then a drug_ap is uniquely produced by one comp_apany\n",
    "#    and one comp_apany only produce one drug_ap"
   ]
  },
  {
   "cell_type": "markdown",
   "metadata": {},
   "source": [
    "### How many unique companies are there"
   ]
  },
  {
   "cell_type": "markdown",
   "metadata": {},
   "source": [
    "## Check if drug dataframe contains all the DRUG_CODE used by other DataFrames for all of (ia, ap, dr)"
   ]
  },
  {
   "cell_type": "code",
   "execution_count": null,
   "metadata": {},
   "outputs": [],
   "source": [
    "file_types = {\n",
    "    'Active': af_dfs,\n",
    "    'Inactive': af_ia_dfs,\n",
    "    'Dormant': af_dr_dfs,\n",
    "    'Approved': af_ap_dfs\n",
    "}\n",
    "\n",
    "drug_suffixes = {\n",
    "    'Active': '',\n",
    "    'Inactive': '_ia',\n",
    "    'Dormant': '_dr',\n",
    "    'Approved': '_ap'\n",
    "}\n",
    "\n",
    "for file_type, dfs in file_types.items():\n",
    "    drug_df = globals()[f\"drug{drug_suffixes[file_type]}\"]\n",
    "    for df_name, df in dfs.items():\n",
    "        num_diff_DRUG = (~ df['DRUG_CODE'].isin(drug_df['DRUG_CODE'])).sum()\n",
    "        if num_diff_DRUG != 0:\n",
    "            print(f\"WE HAVE A PROBLEM {df_name}.txt contains {num_diff_DRUG} DRUG_CODEs that are not in {file_type} drug file\")\n",
    "    print(f\"All GOOD for {file_type} Files\")"
   ]
  },
  {
   "cell_type": "markdown",
   "metadata": {},
   "source": [
    "## Check on if DRUG_CODE are shared across active, inactive, dormant, approved zip files"
   ]
  },
  {
   "cell_type": "code",
   "execution_count": null,
   "metadata": {},
   "outputs": [],
   "source": [
    "len(drug['DRUG_CODE']) + len(drug_ia['DRUG_CODE']) + len(drug_ap['DRUG_CODE']) + len(drug_dr['DRUG_CODE'])   "
   ]
  },
  {
   "cell_type": "code",
   "execution_count": null,
   "metadata": {},
   "outputs": [],
   "source": [
    "all_DRUG_CODE = list(drug['DRUG_CODE']) \n",
    "all_DRUG_CODE.extend(list(drug_ia['DRUG_CODE']))\n",
    "all_DRUG_CODE.extend(list(drug_ap['DRUG_CODE']))\n",
    "all_DRUG_CODE.extend(list(drug_dr['DRUG_CODE']))\n",
    "len(pd.Series(all_DRUG_CODE).unique())"
   ]
  },
  {
   "cell_type": "code",
   "execution_count": null,
   "metadata": {},
   "outputs": [],
   "source": []
  },
  {
   "cell_type": "markdown",
   "metadata": {},
   "source": [
    "## Check on Status Table"
   ]
  },
  {
   "cell_type": "code",
   "execution_count": null,
   "metadata": {},
   "outputs": [],
   "source": [
    "status['CURRENT_STATUS_FLAG'].unique()\n",
    "# what does N and Y means"
   ]
  },
  {
   "cell_type": "code",
   "execution_count": null,
   "metadata": {},
   "outputs": [],
   "source": [
    "status[status['CURRENT_STATUS_FLAG'] == 'N'].STATUS.unique()"
   ]
  },
  {
   "cell_type": "markdown",
   "metadata": {},
   "source": [
    "## Check on Active Ingredient Table"
   ]
  },
  {
   "cell_type": "code",
   "execution_count": null,
   "metadata": {},
   "outputs": [],
   "source": []
  },
  {
   "cell_type": "markdown",
   "metadata": {},
   "source": [
    "# Query the DPD Database Search Criteria"
   ]
  },
  {
   "cell_type": "code",
   "execution_count": null,
   "metadata": {},
   "outputs": [],
   "source": [
    "import requests\n",
    "from bs4 import BeautifulSoup\n",
    "\n",
    "response = requests.get('https://health-products.canada.ca/dpd-bdpp/').text\n",
    "soup = BeautifulSoup(response, 'html.parser')\n",
    "\n",
    "# Find all the labels and select elements\n",
    "labels = soup.find_all('label')\n",
    "selects = soup.find_all('select')\n",
    "\n",
    "# Initialize an empty dictionary to store the results\n",
    "results = {}\n",
    "\n",
    "labels_pos = 0\n",
    "selects_pos = 0\n",
    "# Loop through the labels and selects\n",
    "while labels_pos != len(labels):\n",
    "    label = labels[labels_pos]\n",
    "    select = selects[selects_pos]\n",
    "    label_text = label.text.strip()\n",
    "    \n",
    "    if label_text == 'Search Canada.ca':\n",
    "        labels_pos += 1\n",
    "        continue\n",
    "    elif label['for'] == select['name']:\n",
    "        # Get the select options and strip any whitespace\n",
    "        options = [option.text.strip() for option in select.find_all('option')]\n",
    "        # Add the label and options to the dictionary\n",
    "        results[label_text] = options\n",
    "        labels_pos += 1\n",
    "        selects_pos += 1\n",
    "    else:\n",
    "        results[label_text] = []\n",
    "        labels_pos += 1\n",
    "# Print the results\n",
    "print(results)"
   ]
  },
  {
   "cell_type": "code",
   "execution_count": null,
   "metadata": {},
   "outputs": [],
   "source": [
    "results"
   ]
  },
  {
   "cell_type": "markdown",
   "metadata": {},
   "source": [
    "# Query DPD Database"
   ]
  },
  {
   "cell_type": "code",
   "execution_count": null,
   "metadata": {},
   "outputs": [],
   "source": [
    "import requests\n",
    "from bs4 import BeautifulSoup\n",
    "from selenium import webdriver\n",
    "from selenium.webdriver.common.by import By\n",
    "from selenium.webdriver.support.ui import WebDriverWait\n",
    "from selenium.webdriver.support import expected_conditions as EC\n",
    "\n",
    "# set up the Chrome web driver\n",
    "options = webdriver.ChromeOptions()\n",
    "options.add_argument('--ignore-certificate-errors')\n",
    "options.add_argument('--incognito')\n",
    "options.add_argument('--headless') # uncomment this line if you don't want to see the browser window\n",
    "driver = webdriver.Chrome(options=options)\n",
    "\n",
    "# navigate to the website and wait for it to load\n",
    "driver.get('https://health-products.canada.ca/dpd-bdpp/index-eng.jsp')\n",
    "wait = WebDriverWait(driver, 10)\n",
    "wait.until(EC.presence_of_element_located((By.NAME, '_csrf')))\n",
    "\n",
    "# get the session ID and CSRF token from the cookies and page HTML\n",
    "session_id = driver.get_cookie('JSESSIONID')['value']\n",
    "csrf_token = driver.find_element(By.NAME, '_csrf').get_attribute('value')\n",
    "\n",
    "headers = {\n",
    "    'authority': 'health-products.canada.ca',\n",
    "    'accept': 'text/html,application/xhtml+xml,application/xml;q=0.9,image/avif,image/webp,image/apng,*/*;q=0.8,application/signed-exchange;v=b3;q=0.7',\n",
    "    'accept-language': 'en-US,en;q=0.9,zh-CN;q=0.8,zh;q=0.7',\n",
    "    'cache-control': 'max-age=0',\n",
    "    # 'cookie': 'JSESSIONID=D674F991BF6611FC3C917E958DE4318E; ajs_user_id=I70Qi6oDjaZpMmSMzh6g7AtRXwl2; ajs_anonymous_id=a0021749-0d0c-4ec3-8c1e-a6c0802403d4; at_check=true; AMCVS_A90F2A0D55423F537F000101%40AdobeOrg=1; ak_bmsc=F9565E98F9AD3E3C705837594740BAF9~000000000000000000000000000000~YAAQTM2U0ZoNkL6GAQAANe0DzBNbXGM5jxtWJiv3PKngZsCmTtCt1HvIBG+XsfxKFFAg3MO0MoeGOH+0eBMpNUV1sQNJIKmOGwEXOG/TWew7OStTpz+3NU2U4hFBW27iS5jRhw6C7wKVWtTsw1GXwgpqjDqDxRKn+7Ue8j+f4o4LXKUYJDw9qBHs+mz6kKE7hWTtEPaDBTxp9dydocT+PmeaY9MqyvgFXq5mB6SrIOpFfvTPOEYl0nB4tEqye5aUK4XWUwsCUCS+4O1ewnACPW/EmbjmkKYJC23bl57HN4+K7HchBdCAxWE3hpfaqGt+ATgUk3iACRUhSNNQB9xL2Bn+RIlLcgMJlIstwAI7HXodsGkod1YDj1vZS/u54bmRPk5sSzrKn1YR; mbox=PC#5bfc4e8e26d44540846fb68d5614cb62.34_0#1741704858|session#543a461119fc49429c765b899fce99f9#1678461918; AMCV_A90F2A0D55423F537F000101%40AdobeOrg=1176715910%7CMCIDTS%7C19427%7CMCMID%7C49810477778438041811418532227782019971%7CMCAID%7CNONE%7CMCOPTOUT-1678467257s%7CNONE%7CvVersion%7C5.4.0; bm_sv=D1CD81E89917490305828E4CC21AFA42~YAAQTM2U0SoQkL6GAQAA4mEEzBNIrI6ev8KOSJtsPE+tmf+D0hFU6JRF1oU/q844L6sQDt3Z/slsORdtXytpuPzbmkyYxp90KRTCjYYHYQ7JC//zTeL1qwYDRZmJOn1afVRrJQwlanUl1JdR5L+1vzKJOIYIJjBkDh8cC3u9HNCWPCIuWB3XFM0HUQdLnsa144GEVA0rLi2EU4WtgAhRYFOSP/uqLmOn44aBkGR6uIGZLCXNc8jUlPPGXbfiSNs=~1',\n",
    "    'origin': 'https://health-products.canada.ca',\n",
    "    'referer': 'https://health-products.canada.ca/dpd-bdpp/?lang=eng',\n",
    "    'sec-ch-ua': '\"Chromium\";v=\"110\", \"Not A(Brand\";v=\"24\", \"Google Chrome\";v=\"110\"',\n",
    "    'sec-ch-ua-mobile': '?0',\n",
    "    'sec-ch-ua-platform': '\"Windows\"',\n",
    "    'sec-fetch-dest': 'document',\n",
    "    'sec-fetch-mode': 'navigate',\n",
    "    'sec-fetch-site': 'same-origin',\n",
    "    'sec-fetch-user': '?1',\n",
    "    'upgrade-insecure-requests': '1',\n",
    "    'user-agent': 'Mozilla/5.0 (Windows NT 10.0; Win64; x64) AppleWebKit/537.36 (KHTML, like Gecko) Chrome/110.0.0.0 Safari/537.36',\n",
    "}\n",
    "\n",
    "# use the obtained tokens in subsequent requests\n",
    "cookies = {\n",
    "    'JSESSIONID': session_id,\n",
    "    'ajs_user_id': 'I70Qi6oDjaZpMmSMzh6g7AtRXwl2',\n",
    "    'ajs_anonymous_id': 'a0021749-0d0c-4ec3-8c1e-a6c0802403d4',\n",
    "    'at_check': 'true',\n",
    "    'AMCVS_A90F2A0D55423F537F000101%40AdobeOrg': '1',\n",
    "    'ak_bmsc': 'F9565E98F9AD3E3C705837594740BAF9~000000000000000000000000000000~YAAQTM2U0ZoNkL6GAQAANe0DzBNbXGM5jxtWJiv3PKngZsCmTtCt1HvIBG+XsfxKFFAg3MO0MoeGOH+0eBMpNUV1sQNJIKmOGwEXOG/TWew7OStTpz+3NU2U4hFBW27iS5jRhw6C7wKVWtTsw1GXwgpqjDqDxRKn+7Ue8j+f4o4LXKUYJDw9qBHs+mz6kKE7hWTtEPaDBTxp9dydocT+PmeaY9MqyvgFXq5mB6SrIOpFfvTPOEYl0nB4tEqye5aUK4XWUwsCUCS+4O1ewnACPW/EmbjmkKYJC23bl57HN4+K7HchBdCAxWE3hpfaqGt+ATgUk3iACRUhSNNQB9xL2Bn+RIlLcgMJlIstwAI7HXodsGkod1YDj1vZS/u54bmRPk5sSzrKn1YR',\n",
    "    'mbox': 'PC#5bfc4e8e26d44540846fb68d5614cb62.34_0#1741704858|session#543a461119fc49429c765b899fce99f9#1678461918',\n",
    "    'AMCV_A90F2A0D55423F537F000101%40AdobeOrg': '1176715910%7CMCIDTS%7C19427%7CMCMID%7C49810477778438041811418532227782019971%7CMCAID%7CNONE%7CMCOPTOUT-1678467257s%7CNONE%7CvVersion%7C5.4.0',\n",
    "    'bm_sv': 'D1CD81E89917490305828E4CC21AFA42~YAAQTM2U0SoQkL6GAQAA4mEEzBNIrI6ev8KOSJtsPE+tmf+D0hFU6JRF1oU/q844L6sQDt3Z/slsORdtXytpuPzbmkyYxp90KRTCjYYHYQ7JC//zTeL1qwYDRZmJOn1afVRrJQwlanUl1JdR5L+1vzKJOIYIJjBkDh8cC3u9HNCWPCIuWB3XFM0HUQdLnsa144GEVA0rLi2EU4WtgAhRYFOSP/uqLmOn44aBkGR6uIGZLCXNc8jUlPPGXbfiSNs=~1',\n",
    "}\n",
    "\n",
    "data = {\n",
    "    '_csrf': csrf_token,\n",
    "    'din': '',\n",
    "    'atc': '',\n",
    "    '_status': '1',\n",
    "    'status': '0',\n",
    "    'companyName': '',\n",
    "    'brandName': '',\n",
    "    'activeIngredient': '',\n",
    "    'aigNumber': '',\n",
    "    'biosimDrugSearch': '0',\n",
    "    '_biosimDrugSearch': 'on',\n",
    "    '_drugClass': '1',\n",
    "    'drugClass': '0',\n",
    "    '_route': '1',\n",
    "    'route': '0',\n",
    "    '_dosage': '1',\n",
    "    'dosage': '0',\n",
    "    '_schedule': '1',\n",
    "    'schedule': '0',\n",
    "    '_vetSpecies': '1',\n",
    "    'vetSpecies': '0',\n",
    "}\n",
    "\n",
    "response = requests.post('https://health-products.canada.ca/dpd-bdpp/search-recherche', headers=headers, cookies=cookies, data=data)\n",
    "\n",
    "print(response.content)\n"
   ]
  },
  {
   "cell_type": "code",
   "execution_count": null,
   "metadata": {},
   "outputs": [],
   "source": [
    "response.text # TODO Build a Time Out Mechanism Here"
   ]
  },
  {
   "cell_type": "markdown",
   "metadata": {},
   "source": [
    "# The Following Code Is Used to Obtain Result from DataBase Query on This Website[https://health-products.canada.ca/dpd-bdpp/]\n",
    "\n"
   ]
  },
  {
   "cell_type": "code",
   "execution_count": null,
   "metadata": {},
   "outputs": [],
   "source": [
    "def organize_DPD_query_output(response):\n",
    "\n",
    "    another_soup = BeautifulSoup(response.text, 'html.parser')\n",
    "\n",
    "    # Find all the tables in the webpage\n",
    "    another_tables = another_soup.find_all('table')\n",
    "    \n",
    "    headers = []\n",
    "    for th in another_soup.find_all('th'):\n",
    "        header = th.text.strip()\n",
    "        # TODO: need to automate to change the column name with the footnote to appropriate name\n",
    "        headers.append(header)\n",
    "\n",
    "    # Extract the another_soups data\n",
    "    data = []\n",
    "    for tr in another_soup.find_all('tr')[1:]:\n",
    "        row = []\n",
    "        for td in tr.find_all('td'):\n",
    "            row.append(td.text.strip())\n",
    "        data.append(row)\n",
    "    \n",
    "    df = pd.DataFrame(data, columns=headers)\n",
    "    \n",
    "    return df"
   ]
  },
  {
   "cell_type": "code",
   "execution_count": null,
   "metadata": {},
   "outputs": [],
   "source": [
    "biosimilar_biologic_drug = organize_DPD_query_output(response)"
   ]
  },
  {
   "cell_type": "code",
   "execution_count": null,
   "metadata": {},
   "outputs": [],
   "source": [
    "biosimilar_biologic_drug.columns"
   ]
  },
  {
   "cell_type": "code",
   "execution_count": null,
   "metadata": {},
   "outputs": [],
   "source": [
    "biosimilar_biologic_drug.shape"
   ]
  },
  {
   "cell_type": "code",
   "execution_count": null,
   "metadata": {},
   "outputs": [],
   "source": [
    "len(biosimilar_biologic_drug[biosimilar_biologic_drug['Status'] == 'Marketed']['DIN'].unique())"
   ]
  },
  {
   "cell_type": "code",
   "execution_count": null,
   "metadata": {},
   "outputs": [],
   "source": [
    "biosimilar.shape[0]"
   ]
  },
  {
   "cell_type": "code",
   "execution_count": null,
   "metadata": {},
   "outputs": [],
   "source": [
    "len(biosimilar_biologic_drug[biosimilar_biologic_drug['Status'] == 'Approved']['DIN'].unique())"
   ]
  },
  {
   "cell_type": "code",
   "execution_count": null,
   "metadata": {},
   "outputs": [],
   "source": [
    "biosimilar_ap.shape[0]"
   ]
  },
  {
   "cell_type": "code",
   "execution_count": null,
   "metadata": {},
   "outputs": [],
   "source": [
    "len(biosimilar_biologic_drug[biosimilar_biologic_drug['Status'] == 'Dormant']['DIN'].unique())"
   ]
  },
  {
   "cell_type": "code",
   "execution_count": null,
   "metadata": {},
   "outputs": [],
   "source": [
    "biosimilar_dr.shape[0]"
   ]
  },
  {
   "cell_type": "code",
   "execution_count": null,
   "metadata": {},
   "outputs": [],
   "source": [
    "len(biosimilar_biologic_drug[biosimilar_biologic_drug['Status'] == 'Cancelled Post Market']['DIN'].unique())"
   ]
  },
  {
   "cell_type": "code",
   "execution_count": null,
   "metadata": {},
   "outputs": [],
   "source": [
    "biosimilar_ia.shape[0]"
   ]
  },
  {
   "cell_type": "markdown",
   "metadata": {},
   "source": [
    "# Join All the Data Together"
   ]
  },
  {
   "cell_type": "code",
   "execution_count": null,
   "metadata": {},
   "outputs": [],
   "source": [
    "merged_active = drug.merge(biosimilar, on='DRUG_CODE', how='left') \\\n",
    "                  .merge(comp, on='DRUG_CODE', how='left') \\\n",
    "                  .merge(form, on='DRUG_CODE', how='left') \\\n",
    "                  .merge(ingred, on='DRUG_CODE', how='left') \\\n",
    "                  .merge(package, on='DRUG_CODE', how='left') \\\n",
    "                  .merge(pharm, on='DRUG_CODE', how='left') \\\n",
    "                  .merge(route, on='DRUG_CODE', how='left') \\\n",
    "                  .merge(schedule, on='DRUG_CODE', how='left') \\\n",
    "                  .merge(status, on='DRUG_CODE', how='left') \\\n",
    "                  .merge(ther, on='DRUG_CODE', how='left') \\\n",
    "                  .merge(vet, on='DRUG_CODE', how='left')"
   ]
  },
  {
   "cell_type": "code",
   "execution_count": null,
   "metadata": {},
   "outputs": [],
   "source": [
    "merged_inactive = drug_ia.merge(biosimilar_ia, on='DRUG_CODE', how='left') \\\n",
    "                  .merge(comp_ia, on='DRUG_CODE', how='left') \\\n",
    "                  .merge(form_ia, on='DRUG_CODE', how='left') \\\n",
    "                  .merge(ingred_ia, on='DRUG_CODE', how='left') \\\n",
    "                  .merge(package_ia, on='DRUG_CODE', how='left') \\\n",
    "                  .merge(pharm_ia, on='DRUG_CODE', how='left') \\\n",
    "                  .merge(route_ia, on='DRUG_CODE', how='left') \\\n",
    "                  .merge(schedule_ia, on='DRUG_CODE', how='left') \\\n",
    "                  .merge(status_ia, on='DRUG_CODE', how='left') \\\n",
    "                  .merge(ther_ia, on='DRUG_CODE', how='left') \\\n",
    "                  .merge(vet_ia, on='DRUG_CODE', how='left')"
   ]
  },
  {
   "cell_type": "code",
   "execution_count": null,
   "metadata": {},
   "outputs": [],
   "source": [
    "merged_dormant = drug_dr.merge(biosimilar_dr, on='DRUG_CODE', how='left') \\\n",
    "                  .merge(comp_dr, on='DRUG_CODE', how='left') \\\n",
    "                  .merge(form_dr, on='DRUG_CODE', how='left') \\\n",
    "                  .merge(ingred_dr, on='DRUG_CODE', how='left') \\\n",
    "                  .merge(package_dr, on='DRUG_CODE', how='left') \\\n",
    "                  .merge(pharm_dr, on='DRUG_CODE', how='left') \\\n",
    "                  .merge(route_dr, on='DRUG_CODE', how='left') \\\n",
    "                  .merge(schedule_dr, on='DRUG_CODE', how='left') \\\n",
    "                  .merge(status_dr, on='DRUG_CODE', how='left') \\\n",
    "                  .merge(ther_dr, on='DRUG_CODE', how='left') \\\n",
    "                  .merge(vet_dr, on='DRUG_CODE', how='left')"
   ]
  },
  {
   "cell_type": "code",
   "execution_count": null,
   "metadata": {},
   "outputs": [],
   "source": [
    "merged_approved = drug_ap.merge(biosimilar_ap, on='DRUG_CODE', how='left') \\\n",
    "                  .merge(comp_ap, on='DRUG_CODE', how='left') \\\n",
    "                  .merge(form_ap, on='DRUG_CODE', how='left') \\\n",
    "                  .merge(ingred_ap, on='DRUG_CODE', how='left') \\\n",
    "                  .merge(package_ap, on='DRUG_CODE', how='left') \\\n",
    "                  .merge(pharm_ap, on='DRUG_CODE', how='left') \\\n",
    "                  .merge(route_ap, on='DRUG_CODE', how='left') \\\n",
    "                  .merge(schedule_ap, on='DRUG_CODE', how='left') \\\n",
    "                  .merge(status_ap, on='DRUG_CODE', how='left') \\\n",
    "                  .merge(ther_ap, on='DRUG_CODE', how='left') \\\n",
    "                  .merge(vet_ap, on='DRUG_CODE', how='left')"
   ]
  },
  {
   "cell_type": "markdown",
   "metadata": {},
   "source": [
    "# Filter out Biosimilar and Originator Biologic Drugs"
   ]
  },
  {
   "cell_type": "code",
   "execution_count": null,
   "metadata": {},
   "outputs": [],
   "source": [
    "active_biosimilar_ingred_codes = merged_active['ACTIVE_INGREDIENT_CODE'][merged_active['TYPE'] == 'Biosimilar'].unique()\n",
    "active_biosimilar_ingred_codes\n",
    "merged_active.loc[merged_active['ACTIVE_INGREDIENT_CODE'].isin(active_biosimilar_ingred_codes) & \\\n",
    "                      merged_active['TYPE'].isna(), 'TYPE'] = 'Biologic' "
   ]
  },
  {
   "cell_type": "code",
   "execution_count": null,
   "metadata": {},
   "outputs": [],
   "source": [
    "inactive_biosimilar_ingred_codes = merged_inactive['ACTIVE_INGREDIENT_CODE'][merged_inactive['TYPE'] == 'Biosimilar'].unique()\n",
    "inactive_biosimilar_ingred_codes\n",
    "merged_inactive.loc[merged_inactive['ACTIVE_INGREDIENT_CODE'].isin(inactive_biosimilar_ingred_codes) & \\\n",
    "                      merged_inactive['TYPE'].isna(), 'TYPE'] = 'Biologic' "
   ]
  },
  {
   "cell_type": "code",
   "execution_count": null,
   "metadata": {},
   "outputs": [],
   "source": [
    "dormant_biosimilar_ingred_codes = merged_dormant['ACTIVE_INGREDIENT_CODE'][merged_dormant['TYPE'] == 'Biosimilar'].unique()\n",
    "dormant_biosimilar_ingred_codes\n",
    "merged_dormant.loc[merged_dormant['ACTIVE_INGREDIENT_CODE'].isin(dormant_biosimilar_ingred_codes) & \\\n",
    "                      merged_dormant['TYPE'].isna(), 'TYPE'] = 'Biologic' "
   ]
  },
  {
   "cell_type": "code",
   "execution_count": null,
   "metadata": {},
   "outputs": [],
   "source": [
    "approved_biosimilar_ingred_codes = merged_approved['ACTIVE_INGREDIENT_CODE'][merged_approved['TYPE'] == 'Biosimilar'].unique()\n",
    "approved_biosimilar_ingred_codes\n",
    "merged_approved.loc[merged_approved['ACTIVE_INGREDIENT_CODE'].isin(approved_biosimilar_ingred_codes) & \\\n",
    "                      merged_approved['TYPE'].isna(), 'TYPE'] = 'Biologic' "
   ]
  },
  {
   "cell_type": "markdown",
   "metadata": {},
   "source": [
    "# Rename the Columns, Removes those Footnote"
   ]
  },
  {
   "cell_type": "code",
   "execution_count": null,
   "metadata": {},
   "outputs": [],
   "source": [
    "merged_approved.columns = merged_approved.columns.str.replace('Footnote', '')"
   ]
  },
  {
   "cell_type": "code",
   "execution_count": null,
   "metadata": {},
   "outputs": [],
   "source": [
    "merged_inactive.columns = merged_inactive.columns.str.replace('Footnote', '')"
   ]
  },
  {
   "cell_type": "code",
   "execution_count": null,
   "metadata": {},
   "outputs": [],
   "source": [
    "merged_dormant.columns = merged_dormant.columns.str.replace('Footnote', '')"
   ]
  },
  {
   "cell_type": "code",
   "execution_count": null,
   "metadata": {},
   "outputs": [],
   "source": [
    "merged_active.columns = merged_active.columns.str.replace('Footnote', '')"
   ]
  },
  {
   "cell_type": "code",
   "execution_count": null,
   "metadata": {},
   "outputs": [],
   "source": [
    "DIN_MASTER = pd.concat([merged_approved, merged_inactive, merged_dormant, merged_active], ignore_index = True)"
   ]
  },
  {
   "cell_type": "code",
   "execution_count": null,
   "metadata": {},
   "outputs": [],
   "source": [
    "DIN_MASTER.shape[0]"
   ]
  },
  {
   "cell_type": "markdown",
   "metadata": {},
   "source": [
    "# Write to Excel"
   ]
  },
  {
   "cell_type": "code",
   "execution_count": null,
   "metadata": {},
   "outputs": [],
   "source": [
    "DIN_MASTER.to_csv('DIN_MASTER.csv')\n",
    "\n",
    "#merged_active.to_excel(writer, sheet_name='Active_DINS', index=False)\n",
    "#merged_inactive.to_excel(writer, sheet_name='Inactive_DINS', index=False)\n",
    "#merged_dormant.to_excel(writer, sheet_name='Dormant_DINS', index=False)\n",
    "#merged_approved.to_excel(writer, sheet_name='Approved_DINS', index=False)"
   ]
  },
  {
   "cell_type": "code",
   "execution_count": null,
   "metadata": {},
   "outputs": [],
   "source": [
    "merged_active.to_csv('Active_DINS.csv')"
   ]
  },
  {
   "cell_type": "code",
   "execution_count": null,
   "metadata": {},
   "outputs": [],
   "source": [
    "merged_inactive.to_csv('Inactive_DINS.csv')"
   ]
  },
  {
   "cell_type": "code",
   "execution_count": null,
   "metadata": {},
   "outputs": [],
   "source": [
    "merged_dormant.to_csv('Dormant_DINS.csv')"
   ]
  },
  {
   "cell_type": "code",
   "execution_count": null,
   "metadata": {},
   "outputs": [],
   "source": [
    "merged_approved.to_csv('Approved_DINS.csv')"
   ]
  }
 ],
 "metadata": {
  "kernelspec": {
   "display_name": "Python 3",
   "language": "python",
   "name": "python3"
  },
  "language_info": {
   "codemirror_mode": {
    "name": "ipython",
    "version": 3
   },
   "file_extension": ".py",
   "mimetype": "text/x-python",
   "name": "python",
   "nbconvert_exporter": "python",
   "pygments_lexer": "ipython3",
   "version": "3.8.3"
  }
 },
 "nbformat": 4,
 "nbformat_minor": 5
}
